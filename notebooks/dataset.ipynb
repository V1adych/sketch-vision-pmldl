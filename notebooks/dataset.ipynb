{
  "cells": [
    {
      "cell_type": "code",
      "execution_count": null,
      "metadata": {},
      "outputs": [],
      "source": [
        "import os, json\n",
        "from collections import Counter\n",
        "import matplotlib.pyplot as plt\n",
        "\n",
        "ANNOTATIONS_DIR = '../dataset/synthetic/annotations'\n",
        "SPLIT_PATH = '../dataset/synthetic/splits/train.txt'\n",
        "OUT_DIR = '../docs/figs'\n",
        "os.makedirs(OUT_DIR, exist_ok=True)\n",
        "\n",
        "def load_json(p):\n",
        "    with open(p, 'r', encoding='utf-8') as f:\n",
        "        return json.load(f)\n",
        "\n",
        "with open(SPLIT_PATH, 'r', encoding='utf-8') as f:\n",
        "    names = [l.strip() for l in f if l.strip()]\n",
        "len(names)\n"
      ]
    },
    {
      "cell_type": "code",
      "execution_count": null,
      "metadata": {},
      "outputs": [],
      "source": [
        "ctr = Counter()\n",
        "for n in names:\n",
        "    data = load_json(os.path.join(ANNOTATIONS_DIR, f'{n}.json'))\n",
        "    for p in data.get('primitives', []):\n",
        "        ctr[p.get('type', '?')] += 1\n",
        "labels = list(ctr.keys())\n",
        "vals = [ctr[k] for k in labels]\n",
        "plt.figure(figsize=(6,4))\n",
        "plt.bar(labels, vals, color='#4C78A8')\n",
        "plt.title('Primitive Types Distribution')\n",
        "plt.ylabel('Count')\n",
        "plt.tight_layout()\n",
        "plt.savefig(os.path.join(OUT_DIR, 'primitive_types.png'), dpi=200)\n",
        "plt.show()\n"
      ]
    },
    {
      "cell_type": "code",
      "execution_count": null,
      "metadata": {},
      "outputs": [],
      "source": [
        "counts = []\n",
        "for n in names:\n",
        "    data = load_json(os.path.join(ANNOTATIONS_DIR, f'{n}.json'))\n",
        "    counts.append(len(data.get('primitives', [])))\n",
        "plt.figure(figsize=(6,4))\n",
        "bins = list(range(0, max(counts)+2)) if counts else [0,1]\n",
        "plt.hist(counts, bins=bins, color='#72B7B2', edgecolor='black')\n",
        "plt.title('Primitives per Image')\n",
        "plt.xlabel('# primitives')\n",
        "plt.ylabel('# images')\n",
        "plt.tight_layout()\n",
        "plt.savefig(os.path.join(OUT_DIR, 'primitives_per_image.png'), dpi=200)\n",
        "plt.show()\n"
      ]
    },
    {
      "cell_type": "code",
      "execution_count": null,
      "metadata": {},
      "outputs": [],
      "source": [
        "areas = []\n",
        "for n in names:\n",
        "    data = load_json(os.path.join(ANNOTATIONS_DIR, f'{n}.json'))\n",
        "    W = max(1, int(data.get('width', 1)))\n",
        "    H = max(1, int(data.get('height', 1)))\n",
        "    img_area = float(W*H)\n",
        "    for p in data.get('primitives', []):\n",
        "        x,y,w,h = p.get('bbox', [0,0,0,0])\n",
        "        areas.append(max(0.0, float(w*h)/img_area))\n",
        "plt.figure(figsize=(6,4))\n",
        "plt.hist(areas if areas else [0.0], bins=20, color='#E45756', edgecolor='black')\n",
        "plt.title('BBox Area Distribution (normalized)')\n",
        "plt.xlabel('bbox_area / image_area')\n",
        "plt.ylabel('count')\n",
        "plt.tight_layout()\n",
        "plt.savefig(os.path.join(OUT_DIR, 'bbox_area_hist.png'), dpi=200)\n",
        "plt.show()\n"
      ]
    }
  ],
  "metadata": {
    "kernelspec": {
      "display_name": "Python 3",
      "language": "python",
      "name": "python3"
    },
    "language_info": {
      "codemirror_mode": {
        "name": "ipython",
        "version": 3
      },
      "file_extension": ".py",
      "mimetype": "text/x-python",
      "name": "python",
      "nbconvert_exporter": "python",
      "pygments_lexer": "ipython3",
      "version": "3.12.11"
    }
  },
  "nbformat": 4,
  "nbformat_minor": 2
}
